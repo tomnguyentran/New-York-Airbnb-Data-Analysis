{
 "cells": [
  {
   "cell_type": "code",
   "execution_count": 24,
   "source": [
    "import pandas as pd\n",
    "import numpy as np"
   ],
   "outputs": [],
   "metadata": {}
  },
  {
   "cell_type": "markdown",
   "source": [
    "Generates a single random data entry based on the statisticals provided.\n",
    "\n",
    "Parameters:\n",
    "\n",
    "    location_stats: Statistics of latitude and longitude by neighbourhood.\n",
    "        \n",
    "    price_stats: Price statistics by neighbourhood group.\n",
    "\n",
    "Returns:\n",
    "\n",
    "    dict: A dictionary representing a single data row.\n",
    "\n"
   ],
   "metadata": {}
  },
  {
   "cell_type": "code",
   "execution_count": 25,
   "source": [
    "def generate_random_entry(location_stats, price_stats):\n",
    "    \n",
    "    # Choose a random neighbourhood group\n",
    "    ng = np.random.choice(location_stats.index.get_level_values(0).unique())\n",
    "\n",
    "    # Choose a neighbourhood within the group\n",
    "    nh_options = location_stats.xs(ng, level='neighbourhood_group').index\n",
    "    nh = np.random.choice(nh_options)\n",
    "\n",
    "    # Generate latitude and longitude\n",
    "    lat = np.random.normal(location_stats.loc[(ng, nh)]['latitude']['mean'], location_stats.loc[(ng, nh)]['latitude']['std'])\n",
    "    long = np.random.normal(location_stats.loc[(ng, nh)]['longitude']['mean'], location_stats.loc[(ng, nh)]['longitude']['std'])\n",
    "\n",
    "    # Generate price based on neighbourhood group stats\n",
    "    price = np.random.normal(price_stats.loc[ng, 'mean'], price_stats.loc[ng, 'std'])\n",
    "\n",
    "    return {\n",
    "        'neighbourhood_group': ng,\n",
    "        'neighbourhood': nh,\n",
    "        'latitude': lat,\n",
    "        'longitude': long,\n",
    "        'price': max(0, round(price))\n",
    "    }\n"
   ],
   "outputs": [],
   "metadata": {}
  },
  {
   "cell_type": "markdown",
   "source": [
    "Appends a single new data entry to the existing dataset.\n",
    "\n",
    "Parameters:\n",
    "\n",
    "    file_path: Path to the existing CSV dataset."
   ],
   "metadata": {}
  },
  {
   "cell_type": "code",
   "execution_count": 26,
   "source": [
    "def append_new_data(file_path):\n",
    "\n",
    "    df = pd.read_csv(file_path)\n",
    "\n",
    "    # Analyze data for bounds and distributions\n",
    "    price_stats = df.groupby('neighbourhood_group')['price'].describe()\n",
    "    location_stats = df.groupby(['neighbourhood_group', 'neighbourhood']).agg({\n",
    "        'latitude': ['mean', 'std'],\n",
    "        'longitude': ['mean', 'std']\n",
    "    })\n",
    "\n",
    "     # Generate new data\n",
    "    new_data = generate_random_entry(location_stats, price_stats)\n",
    "    new_df = pd.DataFrame([new_data]) \n",
    "\n",
    "    # Append new data\n",
    "    df_updated = pd.concat([df, new_df], ignore_index=True)\n",
    "    df_updated.to_csv(file_path, index=False)\n"
   ],
   "outputs": [],
   "metadata": {}
  },
  {
   "cell_type": "code",
   "execution_count": 29,
   "source": [
    "if __name__ == \"__main__\":\n",
    "    append_new_data('AB_NYC_2019.csv')"
   ],
   "outputs": [],
   "metadata": {}
  }
 ],
 "metadata": {
  "orig_nbformat": 4,
  "language_info": {
   "name": "python",
   "version": "3.9.12",
   "mimetype": "text/x-python",
   "codemirror_mode": {
    "name": "ipython",
    "version": 3
   },
   "pygments_lexer": "ipython3",
   "nbconvert_exporter": "python",
   "file_extension": ".py"
  },
  "kernelspec": {
   "name": "python3",
   "display_name": "Python 3.9.12 64-bit ('base': conda)"
  },
  "interpreter": {
   "hash": "3283bf7323ca6e260a04222f6b4b6d193a35140d9480528b73f7fd2b5c72286d"
  }
 },
 "nbformat": 4,
 "nbformat_minor": 2
}